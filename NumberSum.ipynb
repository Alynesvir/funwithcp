{
  "nbformat": 4,
  "nbformat_minor": 0,
  "metadata": {
    "colab": {
      "provenance": []
    },
    "kernelspec": {
      "name": "python3",
      "display_name": "Python 3"
    },
    "language_info": {
      "name": "python"
    }
  },
  "cells": [
    {
      "cell_type": "markdown",
      "source": [
        "Inspired by another The Devil's Plan game, Number Sum (https://www.youtube.com/watch?v=SNuedzRh2O4), write Python code to generate a game for a player to form numbers summing up to a target integer k. A game flow is as follows:\n",
        "- display a 2D m by n grid of numbers. each number is between 1 and 9 inclusive.\n",
        "- when the player is ready (by pressing y), computer will replace the grid, 'hiding' the numbers with ascending alphabets A, B, C, ...\n",
        "- computer will generate a pseudo random up to 2-digit integer k\n",
        "- prompt the player to enter a sequence of i letters which associated numbers sum up to k. the sequence must be connected either horizontally, vertically or diagonally. For a start, you may assume i = 3.\n",
        "- if the sequence correctly sums up to k, player earns 1 point\n",
        "- if the sequence does not sum up to k, player loses 1 point\n",
        "- there can be more than 1 correct sequence that sums up to k. so prompt for input again.\n",
        "- game terminates when\n",
        "  - player has entered all sequences that sum to k\n",
        "  - it is impossible to form a sequence that sums to k\n",
        "  - player quits by entering -1  \n",
        "- when the game terminates, show all possible sequences that sum to k, or 0 if none.\n",
        "\n",
        "You may state reasonable assumptions for a minimum viable product. Have fun. :)"
      ],
      "metadata": {
        "id": "W0JFrhy5s5Iv"
      }
    },
    {
      "cell_type": "code",
      "execution_count": null,
      "metadata": {
        "id": "9wMh_fYvs4Nd"
      },
      "outputs": [],
      "source": []
    }
  ]
}
