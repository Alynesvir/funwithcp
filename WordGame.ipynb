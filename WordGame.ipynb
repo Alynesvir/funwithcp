{
  "nbformat": 4,
  "nbformat_minor": 0,
  "metadata": {
    "colab": {
      "provenance": []
    },
    "kernelspec": {
      "name": "python3",
      "display_name": "Python 3"
    },
    "language_info": {
      "name": "python"
    }
  },
  "cells": [
    {
      "cell_type": "markdown",
      "source": [
        "Inspired by The Devil's Plan episode 6 game, Word Tower (https://www.youtube.com/watch?v=ziPEEpxfCW4), write Python code to generate a game for players to form words of a given topic. A game flow is as follows:\n",
        "- display a list of letters (with duplicates)\n",
        "- prompt the player to enter a word using the displayed letters\n",
        "- if a word is accepted, display an acknowledgement and the remaining unused letters\n",
        "- if a word is invalid (not using the remaining letters), display error and prompt for input again\n",
        "- game terminates when\n",
        "  - player has entered accepted words and all letters are used\n",
        "  - it is impossible to form an accepted word using the remaining letters\n",
        "  - player quits by entering -1  \n",
        "\n",
        "\n",
        "You may state reasonable assumptions for a minimum viable product. Have fun. :)"
      ],
      "metadata": {
        "id": "W0JFrhy5s5Iv"
      }
    },
    {
      "cell_type": "code",
      "execution_count": null,
      "metadata": {
        "id": "9wMh_fYvs4Nd"
      },
      "outputs": [],
      "source": []
    }
  ]
}